{
 "cells": [
  {
   "cell_type": "markdown",
   "metadata": {
    "collapsed": true
   },
   "source": [
    "# SUGAR FACTORY ACTUATOR FAULT PREDITION"
   ]
  },
  {
   "cell_type": "markdown",
   "metadata": {},
   "source": [
    "1. IMPORTING\n",
    "the Packages.\n",
    "Data load"
   ]
  },
  {
   "cell_type": "code",
   "execution_count": 1,
   "metadata": {},
   "outputs": [
    {
     "name": "stderr",
     "output_type": "stream",
     "text": [
      "Using TensorFlow backend.\n"
     ]
    }
   ],
   "source": [
    "#Importing the necessary Libraries and modules to build our deep neural network\n",
    "import numpy as np\n",
    "import pandas as pd\n",
    "from keras.models import Sequential\n",
    "from keras.layers import Dense\n",
    "from keras.layers import Dropout,Activation\n",
    "from keras.utils import np_utils"
   ]
  },
  {
   "cell_type": "code",
   "execution_count": 2,
   "metadata": {},
   "outputs": [
    {
     "name": "stdout",
     "output_type": "stream",
     "text": [
      "(86400, 5)\n"
     ]
    }
   ],
   "source": [
    "# Load CSV using Pandas\n",
    "filename = '30102001.csv'\n",
    "names = ['Timestamp','LC51_03CV','LC51_03X','LC51_03PV','f18']\n",
    "data = pd.read_csv(filename, names=names)\n",
    "print(data.shape)"
   ]
  },
  {
   "cell_type": "markdown",
   "metadata": {},
   "source": [
    "2. VISUALIZING THE DATA"
   ]
  },
  {
   "cell_type": "markdown",
   "metadata": {},
   "source": [
    "2. PREPROCESSING"
   ]
  },
  {
   "cell_type": "code",
   "execution_count": 3,
   "metadata": {},
   "outputs": [
    {
     "data": {
      "text/html": [
       "<div>\n",
       "<style scoped>\n",
       "    .dataframe tbody tr th:only-of-type {\n",
       "        vertical-align: middle;\n",
       "    }\n",
       "\n",
       "    .dataframe tbody tr th {\n",
       "        vertical-align: top;\n",
       "    }\n",
       "\n",
       "    .dataframe thead th {\n",
       "        text-align: right;\n",
       "    }\n",
       "</style>\n",
       "<table border=\"1\" class=\"dataframe\">\n",
       "  <thead>\n",
       "    <tr style=\"text-align: right;\">\n",
       "      <th></th>\n",
       "      <th>Timestamp</th>\n",
       "      <th>LC51_03CV</th>\n",
       "      <th>LC51_03X</th>\n",
       "      <th>LC51_03PV</th>\n",
       "      <th>f18</th>\n",
       "    </tr>\n",
       "  </thead>\n",
       "  <tbody>\n",
       "    <tr>\n",
       "      <th>32766</th>\n",
       "      <td>32766</td>\n",
       "      <td>34.3</td>\n",
       "      <td>34.3</td>\n",
       "      <td>48.6</td>\n",
       "      <td>0</td>\n",
       "    </tr>\n",
       "    <tr>\n",
       "      <th>59222</th>\n",
       "      <td>59222</td>\n",
       "      <td>47.7</td>\n",
       "      <td>46.4</td>\n",
       "      <td>48.8</td>\n",
       "      <td>1</td>\n",
       "    </tr>\n",
       "    <tr>\n",
       "      <th>76398</th>\n",
       "      <td>76398</td>\n",
       "      <td>39.5</td>\n",
       "      <td>38.4</td>\n",
       "      <td>50.1</td>\n",
       "      <td>0</td>\n",
       "    </tr>\n",
       "    <tr>\n",
       "      <th>72980</th>\n",
       "      <td>72980</td>\n",
       "      <td>40.9</td>\n",
       "      <td>38.8</td>\n",
       "      <td>49.5</td>\n",
       "      <td>0</td>\n",
       "    </tr>\n",
       "    <tr>\n",
       "      <th>71176</th>\n",
       "      <td>71176</td>\n",
       "      <td>40.0</td>\n",
       "      <td>40.0</td>\n",
       "      <td>49.3</td>\n",
       "      <td>0</td>\n",
       "    </tr>\n",
       "  </tbody>\n",
       "</table>\n",
       "</div>"
      ],
      "text/plain": [
       "       Timestamp  LC51_03CV  LC51_03X  LC51_03PV  f18\n",
       "32766      32766       34.3      34.3       48.6    0\n",
       "59222      59222       47.7      46.4       48.8    1\n",
       "76398      76398       39.5      38.4       50.1    0\n",
       "72980      72980       40.9      38.8       49.5    0\n",
       "71176      71176       40.0      40.0       49.3    0"
      ]
     },
     "execution_count": 3,
     "metadata": {},
     "output_type": "execute_result"
    }
   ],
   "source": [
    "train=data.sample(frac=0.8,random_state=200)\n",
    "test=data.drop(train.index)\n",
    "train.head()"
   ]
  },
  {
   "cell_type": "code",
   "execution_count": 4,
   "metadata": {},
   "outputs": [],
   "source": [
    "(X_train, y_train), (X_test, y_test) = (train.iloc[0:,1:4],train.iloc[0:,4:5]),(test.iloc[0:,1:4],test.iloc[0:,4:5])"
   ]
  },
  {
   "cell_type": "code",
   "execution_count": 5,
   "metadata": {},
   "outputs": [],
   "source": [
    "# Setting the value the seed. You can set your seed to any value. A particular seed va\n",
    "seed = 7\n",
    "np.random.seed(seed)"
   ]
  },
  {
   "cell_type": "code",
   "execution_count": 6,
   "metadata": {},
   "outputs": [
    {
     "data": {
      "text/html": [
       "<div>\n",
       "<style scoped>\n",
       "    .dataframe tbody tr th:only-of-type {\n",
       "        vertical-align: middle;\n",
       "    }\n",
       "\n",
       "    .dataframe tbody tr th {\n",
       "        vertical-align: top;\n",
       "    }\n",
       "\n",
       "    .dataframe thead th {\n",
       "        text-align: right;\n",
       "    }\n",
       "</style>\n",
       "<table border=\"1\" class=\"dataframe\">\n",
       "  <thead>\n",
       "    <tr style=\"text-align: right;\">\n",
       "      <th></th>\n",
       "      <th>f18</th>\n",
       "    </tr>\n",
       "  </thead>\n",
       "  <tbody>\n",
       "    <tr>\n",
       "      <th>3</th>\n",
       "      <td>0</td>\n",
       "    </tr>\n",
       "    <tr>\n",
       "      <th>4</th>\n",
       "      <td>0</td>\n",
       "    </tr>\n",
       "    <tr>\n",
       "      <th>14</th>\n",
       "      <td>0</td>\n",
       "    </tr>\n",
       "    <tr>\n",
       "      <th>17</th>\n",
       "      <td>0</td>\n",
       "    </tr>\n",
       "    <tr>\n",
       "      <th>23</th>\n",
       "      <td>0</td>\n",
       "    </tr>\n",
       "  </tbody>\n",
       "</table>\n",
       "</div>"
      ],
      "text/plain": [
       "    f18\n",
       "3     0\n",
       "4     0\n",
       "14    0\n",
       "17    0\n",
       "23    0"
      ]
     },
     "execution_count": 6,
     "metadata": {},
     "output_type": "execute_result"
    }
   ],
   "source": [
    "# normalize inputs from 0-100 to 0-1. This is a standard practice \n",
    "X_train = X_train / 100\n",
    "X_test = X_test / 100\n",
    "y_test.head()"
   ]
  },
  {
   "cell_type": "markdown",
   "metadata": {},
   "source": [
    "3. MODELLING"
   ]
  },
  {
   "cell_type": "code",
   "execution_count": 7,
   "metadata": {},
   "outputs": [],
   "source": [
    "# define baseline model\n",
    "def baseline_model():\n",
    "\t# create model\n",
    "\tmodel = Sequential()\n",
    "\tmodel.add(Dense(3, input_shape=(3,), kernel_initializer='normal', activation='relu')) #HIDDEN LAYER\n",
    "\tmodel.add(Dense(2, kernel_initializer='normal', activation='softmax')) #Output Layer\n",
    "\tmodel.compile(loss='sparse_categorical_crossentropy', optimizer='adam', metrics=['accuracy']) #Compile the model\n",
    "\treturn model"
   ]
  },
  {
   "cell_type": "code",
   "execution_count": 8,
   "metadata": {},
   "outputs": [
    {
     "name": "stdout",
     "output_type": "stream",
     "text": [
      "Train on 69120 samples, validate on 17280 samples\n",
      "Epoch 1/5\n",
      " - 0s - loss: 0.6742 - acc: 0.9886 - val_loss: 0.6533 - val_acc: 0.9876\n",
      "Epoch 2/5\n",
      " - 0s - loss: 0.6318 - acc: 0.9886 - val_loss: 0.6074 - val_acc: 0.9876\n",
      "Epoch 3/5\n",
      " - 0s - loss: 0.5824 - acc: 0.9886 - val_loss: 0.5548 - val_acc: 0.9876\n",
      "Epoch 4/5\n",
      " - 0s - loss: 0.5271 - acc: 0.9886 - val_loss: 0.4974 - val_acc: 0.9876\n",
      "Epoch 5/5\n",
      " - 0s - loss: 0.4686 - acc: 0.9886 - val_loss: 0.4387 - val_acc: 0.9876\n",
      "Accuracy: 98.76%\n"
     ]
    }
   ],
   "source": [
    "# build the model\n",
    "model = baseline_model() #initialize the model using the fucntion we defined.\n",
    "# Fit the model\n",
    "fit = model.fit(X_train, y_train, validation_data=(X_test, y_test), epochs=5, batch_size=2000, verbose=2)\n",
    "# Final evaluation of the model\n",
    "scores = model.evaluate(X_test, y_test, verbose=0)\n",
    "print(\"Accuracy: %.2f%%\" % (scores[1]*100))"
   ]
  },
  {
   "cell_type": "markdown",
   "metadata": {},
   "source": [
    "### Final Evaluation of the Model"
   ]
  },
  {
   "cell_type": "code",
   "execution_count": 15,
   "metadata": {},
   "outputs": [
    {
     "data": {
      "image/png": "[encoded data removed]",
      "text/plain": [
       "<Figure size 432x288 with 1 Axes>"
      ]
     },
     "metadata": {},
     "output_type": "display_data"
    }
   ],
   "source": [
    "import matplotlib.pyplot as plt\n",
    "plt.plot(fit.history['acc'])\n",
    "plt.plot(fit.history['val_acc'])\n",
    "plt.title('model_accuracy')\n",
    "plt.ylabel('accuracy')\n",
    "plt.xlabel('epoch')\n",
    "plt.legend(['train','test'],loc='upper left')\n",
    "plt.show()"
   ]
  },
  {
   "cell_type": "markdown",
   "metadata": {},
   "source": [
    "## PREDICT\n",
    "\n",
    "Finally let's make some predictions :)"
   ]
  },
  {
   "cell_type": "code",
   "execution_count": 22,
   "metadata": {},
   "outputs": [
    {
     "name": "stdout",
     "output_type": "stream",
     "text": [
      "Input Values :-     LC51_03CV  LC51_03X  LC51_03PV\n",
      "3      0.353     0.343      0.498\n",
      "Output Value :-     f18\n",
      "3    0\n"
     ]
    },
    {
     "data": {
      "text/plain": [
       "0"
      ]
     },
     "execution_count": 22,
     "metadata": {},
     "output_type": "execute_result"
    }
   ],
   "source": [
    "# Load CSV using Pandas\n",
    "filename = '30102001.csv'\n",
    "names = ['Timestamp','LC51_03CV','LC51_03X','LC51_03PV','f18']\n",
    "data = pd.read_csv(filename, names=names)\n",
    "(X_train, y_train), (X_test, y_test) = (train.iloc[0:,1:4],train.iloc[0:,4:5]),(test.iloc[0:,1:4],test.iloc[0:,4:5])\n",
    "X_test = X_test / 100\n",
    "X_test.head()\n",
    "#perdiction\n",
    "print(\"Input Values :- \",X_test.iloc[0:1,])\n",
    "print(\"Output Value :- \",y_test.iloc[0:1,])\n",
    "np.argmax(model.predict(X_test.iloc[0:1,]))"
   ]
  },
  {
   "cell_type": "code",
   "execution_count": null,
   "metadata": {},
   "outputs": [],
   "source": []
  }
 ],
 "metadata": {
  "kernelspec": {
   "display_name": "Python 3",
   "language": "python",
   "name": "python3"
  },
  "language_info": {
   "codemirror_mode": {
    "name": "ipython",
    "version": 3
   },
   "file_extension": ".py",
   "mimetype": "text/x-python",
   "name": "python",
   "nbconvert_exporter": "python",
   "pygments_lexer": "ipython3",
   "version": "3.6.4"
  }
 },
 "nbformat": 4,
 "nbformat_minor": 1
}
